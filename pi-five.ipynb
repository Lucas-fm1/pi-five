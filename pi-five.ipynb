{
 "cells": [
  {
   "cell_type": "markdown",
   "id": "aab39109",
   "metadata": {},
   "source": [
    "# A Pi Aproximaton using Strings of 5\n",
    "\n",
    "## Set the string length"
   ]
  },
  {
   "cell_type": "code",
   "execution_count": 40,
   "id": "c08f3726",
   "metadata": {},
   "outputs": [
    {
     "name": "stdout",
     "output_type": "stream",
     "text": [
      "Choose the number of 5s:\n",
      "5\n"
     ]
    }
   ],
   "source": [
    "import numpy as np\n",
    "\n",
    "num = input('Choose the number of 5s:\\n')"
   ]
  },
  {
   "cell_type": "markdown",
   "id": "5fcba38c",
   "metadata": {},
   "source": [
    "## The string is:"
   ]
  },
  {
   "cell_type": "code",
   "execution_count": 41,
   "id": "51335179",
   "metadata": {},
   "outputs": [
    {
     "name": "stdout",
     "output_type": "stream",
     "text": [
      "55555\n"
     ]
    }
   ],
   "source": [
    "inum = 0\n",
    "for i in range(int(num)):\n",
    "    inum = inum + pow(10,int(i))*5\n",
    "print(inum)"
   ]
  },
  {
   "cell_type": "markdown",
   "id": "6297d3d6",
   "metadata": {},
   "source": [
    "## Witch leades to:"
   ]
  },
  {
   "cell_type": "code",
   "execution_count": 42,
   "id": "0ff3cdad",
   "metadata": {},
   "outputs": [
    {
     "name": "stdout",
     "output_type": "stream",
     "text": [
      "sin( 1 / 55555 ) = 3.14162406983044e-07\n"
     ]
    }
   ],
   "source": [
    "inv = 1/inum\n",
    "res = np.sin(np.deg2rad(inv))\n",
    "print('sin( 1 /', inum, ') =', res)"
   ]
  }
 ],
 "metadata": {
  "kernelspec": {
   "display_name": "Python 3 (ipykernel)",
   "language": "python",
   "name": "python3"
  },
  "language_info": {
   "codemirror_mode": {
    "name": "ipython",
    "version": 3
   },
   "file_extension": ".py",
   "mimetype": "text/x-python",
   "name": "python",
   "nbconvert_exporter": "python",
   "pygments_lexer": "ipython3",
   "version": "3.9.7"
  }
 },
 "nbformat": 4,
 "nbformat_minor": 5
}
